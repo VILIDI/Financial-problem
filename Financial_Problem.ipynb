{
  "cells": [
    {
      "cell_type": "code",
      "execution_count": null,
      "metadata": {
        "id": "aAGzznatUvM6"
      },
      "outputs": [],
      "source": [
        "from dataclasses import dataclass\n",
        "import json\n",
        "import numpy as np\n",
        "from typing import Callable, List\n",
        "from matplotlib import pyplot as plt\n",
        "\n",
        "EPS = 4e-7\n",
        "\n",
        "# uploading the file\n",
        "with open('raw.chartblock.json') as f:\n",
        "    VALUES = json.load(f)"
      ]
    },
    {
      "cell_type": "code",
      "execution_count": null,
      "metadata": {
        "id": "va7SEXrTIkfV"
      },
      "outputs": [],
      "source": [
        "@dataclass(frozen=True)\n",
        "class Capital:\n",
        "  money: float   # suggest cash\n",
        "  inventory: int # suggest stocks (stonks ;))\n",
        "\n",
        "def buy(current: Capital, price: List[float]) -> Capital:\n",
        "  stock_change = current.money // price[0]\n",
        "  new_cash = current.money - stock_change * price[0]\n",
        "  new_stocks = current.inventory + stock_change\n",
        "  return Capital(new_cash, new_stocks)\n",
        "\n",
        "def sell(current: Capital, price: List[float]) -> Capital:\n",
        "  new_cash = current.money + current.inventory * price[0]\n",
        "  new_stocks = 0\n",
        "  return Capital(new_cash, new_stocks)"
      ]
    },
    {
      "cell_type": "markdown",
      "metadata": {
        "id": "YGxd53qNIkfW"
      },
      "source": [
        "#"
      ]
    },
    {
      "cell_type": "code",
      "execution_count": null,
      "metadata": {
        "id": "w0-21Ur6IkfX"
      },
      "outputs": [],
      "source": [
        "# counting total profit according to selected strategy\n",
        "def income(values, strategy: Callable[[Capital, List[float], List[float]], Capital],\n",
        "                window: int) -> float:\n",
        "\n",
        "    bid_iter = [bid[1] for bid in values[0][\"ticks\"]].__iter__()\n",
        "    ask_iter = [ask[1] for ask in values[1][\"ticks\"]].__iter__()\n",
        "\n",
        "    capital = Capital(money=1, inventory=0)\n",
        "    try:\n",
        "        ask_window = [ask_iter.__next__() for _ in range(window)]\n",
        "        bid_window = [bid_iter.__next__() for _ in range(window)]\n",
        "        while True:\n",
        "            capital = strategy(capital, ask_window, bid_window)\n",
        "            (_, *ask_window) = (*ask_window, ask_iter.__next__())\n",
        "            (_, *bid_window) = (*bid_window, bid_iter.__next__())\n",
        "    except StopIteration:\n",
        "        capital = sell(capital, [max(bid_window)])\n",
        "\n",
        "    return capital.money"
      ]
    },
    {
      "cell_type": "code",
      "execution_count": null,
      "metadata": {
        "colab": {
          "base_uri": "https://localhost:8080/"
        },
        "id": "mqJoUeUXIkfZ",
        "outputId": "063d6b81-a147-4bed-e7c3-ecb8fa20a3f7"
      },
      "outputs": [
        {
          "output_type": "stream",
          "name": "stdout",
          "text": [
            "Total money = 1.518664000000003 $\n"
          ]
        }
      ],
      "source": [
        "def best_in_window(capital: Capital, ask: List[float], bid: List[float]) -> Capital:\n",
        "    delta_bid = bid[1] - bid[0]\n",
        "    delta_ask = ask[1] - ask[0]\n",
        "    # if price doesn't change - return\n",
        "    if (abs(delta_ask) + abs(delta_bid) < 2 * EPS):\n",
        "      return capital\n",
        "\n",
        "    best_ask_in_window = min(ask)\n",
        "    best_bid_in_window = max(bid)\n",
        "    ask_pos = np.argmin(ask)\n",
        "    bid_pos = np.argmax(bid)\n",
        "\n",
        "    if best_bid_in_window - best_ask_in_window > 0:\n",
        "      if (bid_pos > ask_pos and ask_pos == 0):\n",
        "        return buy(capital, ask)\n",
        "    if (bid_pos == 0):\n",
        "      return sell(capital, bid)\n",
        "\n",
        "    return capital\n",
        "\n",
        "print(\"Total money =\", income(VALUES, best_in_window, 14), \"$\")"
      ]
    },
    {
      "cell_type": "code",
      "execution_count": null,
      "metadata": {
        "colab": {
          "base_uri": "https://localhost:8080/",
          "height": 297
        },
        "id": "1gj-neBcIkfb",
        "outputId": "46acb0f2-ae25-4c7d-d23b-340f2460fefd"
      },
      "outputs": [
        {
          "output_type": "display_data",
          "data": {
            "image/png": "[encoded data removed]",
            "text/plain": [
              "<Figure size 432x288 with 1 Axes>"
            ]
          },
          "metadata": {
            "needs_background": "light"
          }
        },
        {
          "output_type": "stream",
          "name": "stdout",
          "text": [
            "Optimal window is = 14\n"
          ]
        }
      ],
      "source": [
        "# Prove that window = 14 is optimal\n",
        "\n",
        "total_money = []\n",
        "window_size = []\n",
        "for i in range(2, 40):\n",
        "    total_money.append(income(VALUES, best_in_window, i))\n",
        "    window_size.append(i)\n",
        "plt.plot(window_size, total_money)\n",
        "plt.xlabel(\"Window size\")\n",
        "plt.ylabel(\"Total profit in $\")\n",
        "plt.show()\n",
        "\n",
        "print(\"Optimal window is =\", window_size[np.argmax(total_money)])"
      ]
    },
    {
      "cell_type": "code",
      "source": [
        ""
      ],
      "metadata": {
        "id": "yqOKix44d8xh"
      },
      "execution_count": null,
      "outputs": []
    }
  ],
  "metadata": {
    "colab": {
      "name": "Financial_Problem.ipynb",
      "provenance": []
    },
    "kernelspec": {
      "display_name": "Python 3",
      "name": "python3"
    },
    "language_info": {
      "codemirror_mode": {
        "name": "ipython",
        "version": 3
      },
      "file_extension": ".py",
      "mimetype": "text/x-python",
      "name": "python",
      "nbconvert_exporter": "python",
      "pygments_lexer": "ipython3",
      "version": "3.8.10"
    }
  },
  "nbformat": 4,
  "nbformat_minor": 0
}